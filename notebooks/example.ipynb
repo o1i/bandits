{
 "cells": [
  {
   "cell_type": "code",
   "execution_count": null,
   "id": "dated-precipitation",
   "metadata": {},
   "outputs": [],
   "source": [
    "import os\n",
    "import sys\n",
    "sys.path.append(os.path.join(os.getcwd(), os.pardir))\n",
    "\n",
    "import numpy as np\n",
    "import plotly.graph_objects as go\n",
    "from sklearn.preprocessing import PolynomialFeatures\n",
    "from statsmodels.tsa.api import SimpleExpSmoothing\n",
    "\n",
    "from bandits.arms import GaussianMixtureArm\n",
    "from bandits.context import Context\n",
    "from bandits.banditPlayer import BanditPlayer\n",
    "from bandits.banditLearner import SGDLearner, XGBLearner, OptimisticSGDLearner"
   ]
  },
  {
   "cell_type": "code",
   "execution_count": null,
   "id": "liked-process",
   "metadata": {},
   "outputs": [],
   "source": [
    "diag_down = np.array([[-1, 1], [1, -1]])\n",
    "diag_up = np.array([[-1, -1], [1, 1]])\n",
    "left = np.array([[-1, -1], [-1, 1]])\n",
    "right = np.array([[1, -1], [1, 1]])\n",
    "top = np.array([[-1, 1], [1, 1]])\n",
    "bottom = np.array([[-1, -1], [1, -1]])\n",
    "\n",
    "a0 = GaussianMixtureArm(\n",
    "    centres = np.array(diag_up), \n",
    "    stds= np.array([1.2, 1.2]),\n",
    "    factor=1,\n",
    "    noise=.01,\n",
    ")\n",
    "a1 = GaussianMixtureArm(\n",
    "    centres = np.array(diag_down), \n",
    "    stds= np.array([1, 1]),\n",
    "    factor=1,\n",
    "    noise=.01,\n",
    ")\n",
    "\n"
   ]
  },
  {
   "cell_type": "code",
   "execution_count": null,
   "id": "respiratory-metabolism",
   "metadata": {},
   "outputs": [],
   "source": [
    "n = 20000"
   ]
  },
  {
   "cell_type": "code",
   "execution_count": null,
   "id": "governing-simulation",
   "metadata": {},
   "outputs": [],
   "source": [
    "player = BanditPlayer({\"a0\": a0, \"a1\": a1})\n",
    "context = Context(n, 2)\n",
    "learner1 = SGDLearner(2)\n",
    "regrets1 = []\n",
    "learner2 = XGBLearner(n_learners=2, n_trees=100)\n",
    "regrets2 = []\n",
    "learner3 = OptimisticSGDLearner(2, alpha=0.995)\n",
    "regrets3 = []\n",
    "pe31 = []\n",
    "pe32 = []\n",
    "\n",
    "# SGD learner needs higher order features\n",
    "poly = PolynomialFeatures(4)\n",
    "\n",
    "for a in learner1.learners.keys():\n",
    "    learner1.update(poly.fit_transform(context.contexts[0, :].reshape([1, -1])), a, [0])\n",
    "    learner2.update(context.contexts[0, :].reshape([1, -1]), a, [0])\n",
    "    learner3.update(poly.fit_transform(context.contexts[0, :].reshape([1, -1])), a, [0])\n"
   ]
  },
  {
   "cell_type": "code",
   "execution_count": null,
   "id": "recreational-simulation",
   "metadata": {},
   "outputs": [],
   "source": [
    "np.random.seed(270)\n",
    "for i in range(context.contexts.shape[0]):\n",
    "    state = context.contexts[i, :].reshape([1, -1])\n",
    "    \n",
    "    if (i % 1000) == 0:\n",
    "        print(i)\n",
    "    \n",
    "    action1 = learner1.choose(poly.fit_transform(state))\n",
    "    reward1, regret1 = player.play_one(state, action1)\n",
    "    learner1.update(poly.fit_transform(state), action1, [reward1])\n",
    "    regrets1.append(regret1)\n",
    "    \n",
    "    action2 = learner2.choose(state)\n",
    "    reward2, regret2 = player.play_one(state, action2)\n",
    "    learner2.update(state, action2, [reward2])\n",
    "    regrets2.append(regret2)\n",
    "    \n",
    "    action3 = learner3.choose(poly.fit_transform(state))\n",
    "    reward3, regret3 = player.play_one(state, action3)\n",
    "    learner3.update(poly.fit_transform(state), action3, [reward3])\n",
    "    regrets3.append(regret3)\n",
    "    pe31.append(learner3.pred_error[\"a0\"])\n",
    "    pe32.append(learner3.pred_error[\"a1\"])\n",
    "    \n",
    "    \n",
    "    if i == 4000: # Random changes to one centre\n",
    "        player.arms[\"a0\"].centres = right\n",
    "    \n",
    "    if i == 8000: # Random changes to the other centre\n",
    "        player.arms[\"a1\"].centres = diag_up   \n",
    "    \n",
    "    if i == 12000:  # Switch arms\n",
    "        player.arms[\"a_temp\"] = player.arms.pop(\"a1\")\n",
    "        player.arms[\"a1\"] = player.arms.pop(\"a0\")      \n",
    "        player.arms[\"a0\"] = player.arms.pop(\"a_temp\")\n",
    "  "
   ]
  },
  {
   "cell_type": "code",
   "execution_count": null,
   "id": "complimentary-bermuda",
   "metadata": {},
   "outputs": [],
   "source": [
    "frac_opt_actions1 = SimpleExpSmoothing(np.array(regrets1) == 0).fit(smoothing_level=0.006).fittedvalues\n",
    "frac_opt_actions2 = SimpleExpSmoothing(np.array(regrets2) == 0).fit(smoothing_level=0.006).fittedvalues\n",
    "frac_opt_actions3 = SimpleExpSmoothing(np.array(regrets3) == 0).fit(smoothing_level=0.006).fittedvalues"
   ]
  },
  {
   "cell_type": "code",
   "execution_count": null,
   "id": "wooden-stomach",
   "metadata": {},
   "outputs": [],
   "source": [
    "fig = go.Figure(layout_title=\"Fraction of optimal choice (Exponentially smoothed)\",\n",
    "               layout_xaxis_title=\"Index\",\n",
    "               layout_yaxis_title=\"Cumulative fraction\"\n",
    "               )\n",
    "fig.add_trace(go.Scatter(x=np.arange(len(regrets1))+1, y=frac_opt_actions1,\n",
    "                        line={\"color\": \"#aa9900\", \"dash\": \"solid\"}, \n",
    "                         name=f\"SGDLearner\", mode=\"lines\"))\n",
    "fig.add_trace(go.Scatter(x=np.arange(len(regrets2))+1, y=frac_opt_actions2,\n",
    "                        line={\"color\": \"#9900aa\", \"dash\": \"solid\"}, \n",
    "                         name=f\"XGBLearner\", mode=\"lines\"))\n",
    "fig.add_trace(go.Scatter(x=np.arange(len(regrets3))+1, y=frac_opt_actions3,\n",
    "                        line={\"color\": \"#33bb77\", \"dash\": \"solid\"}, \n",
    "                         name=f\"OptimisticSGDLearner\", mode=\"lines\"))\n",
    "fig.add_trace(go.Scatter(x=np.arange(len(regrets3))+1, y=pe31,\n",
    "                        line={\"color\": \"#33bb77\", \"dash\": \"dash\"}, \n",
    "                         name=f\"Pred Error 1\", mode=\"lines\"))\n",
    "fig.add_trace(go.Scatter(x=np.arange(len(regrets3))+1, y=pe32,\n",
    "                        line={\"color\": \"#33bb77\", \"dash\": \"dot\"}, \n",
    "                         name=f\"Pred Error 2\", mode=\"lines\"))\n",
    "fig.layout={'yaxis': {\"range\":[0, 1]}}\n",
    "fig.show()"
   ]
  },
  {
   "cell_type": "code",
   "execution_count": null,
   "id": "august-riverside",
   "metadata": {},
   "outputs": [],
   "source": []
  }
 ],
 "metadata": {
  "kernelspec": {
   "display_name": "Python 3",
   "language": "python",
   "name": "python3"
  },
  "language_info": {
   "codemirror_mode": {
    "name": "ipython",
    "version": 3
   },
   "file_extension": ".py",
   "mimetype": "text/x-python",
   "name": "python",
   "nbconvert_exporter": "python",
   "pygments_lexer": "ipython3",
   "version": "3.9.2"
  }
 },
 "nbformat": 4,
 "nbformat_minor": 5
}
