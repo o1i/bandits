{
 "cells": [
  {
   "cell_type": "code",
   "execution_count": null,
   "id": "dated-precipitation",
   "metadata": {},
   "outputs": [],
   "source": [
    "from collections import OrderedDict\n",
    "import logging\n",
    "import os\n",
    "import sys\n",
    "sys.path.append(os.path.join(os.getcwd(), os.pardir))\n",
    "\n",
    "import matplotlib.pyplot as plt\n",
    "import numpy as np\n",
    "import pandas as pd\n",
    "import plotly.express as px\n",
    "import plotly.graph_objects as go\n",
    "from sklearn.preprocessing import PolynomialFeatures\n",
    "from statsmodels.tsa.api import SimpleExpSmoothing\n",
    "\n",
    "from bandits.arms import GaussianMixtureArm\n",
    "from bandits.context import Context\n",
    "from bandits.banditPlayer import BanditPlayer\n",
    "from bandits.banditLearner import (SGDLearner, XGBLearner, OptimisticSGDLearner, AdaptiveRandomForestLearner, \n",
    "                                   PerceptronLearner, BaggedLinearRegressor ,LinearExpertsLearner)"
   ]
  },
  {
   "cell_type": "code",
   "execution_count": null,
   "id": "caring-advocate",
   "metadata": {},
   "outputs": [],
   "source": [
    "logging.basicConfig(level=logging.INFO)"
   ]
  },
  {
   "cell_type": "code",
   "execution_count": null,
   "id": "liked-process",
   "metadata": {},
   "outputs": [],
   "source": [
    "diag_down = np.array([[-1, 1], [1, -1]])\n",
    "diag_up = np.array([[-1, -1], [1, 1]])\n",
    "left = np.array([[-1, -1], [-1, 1]])\n",
    "right = np.array([[1, -1], [1, 1]])\n",
    "top = np.array([[-1, 1], [1, 1]])\n",
    "bottom = np.array([[-1, -1], [1, -1]])\n",
    "\n",
    "a0 = GaussianMixtureArm(\n",
    "    centres = np.array(left), \n",
    "    stds= np.array([1, 1]),\n",
    "    factor=1,\n",
    "    noise=.05,\n",
    ")\n",
    "a1 = GaussianMixtureArm(\n",
    "    centres = np.array(right), \n",
    "    stds= np.array([1, 1]),\n",
    "    factor=1,\n",
    "    noise=.05,\n",
    ")\n",
    "\n",
    "\n",
    "def update_sudden(player: BanditPlayer, start: tuple, stop: tuple, n=4000):\n",
    "    arms = list(player.arms.keys())\n",
    "    assert len(start) == len(arms)\n",
    "    assert len(stop) == len(arms)\n",
    "    def update(i):\n",
    "        if i == 0:\n",
    "            print(\"init\")\n",
    "            for ii, centres in enumerate(start):\n",
    "                player.arms[arms[ii]].centres = centres\n",
    "        if i == n:\n",
    "            print(\"switch\")\n",
    "            for ii, centres in enumerate(stop):\n",
    "                player.arms[arms[ii]].centres = centres\n",
    "    return update\n",
    "            \n",
    "\n",
    "def update_gradual(player: BanditPlayer, start: tuple, stop: tuple, n1=4000, n2=6000):\n",
    "    arms = list(player.arms.keys())\n",
    "    assert len(start) == len(arms)\n",
    "    assert len(stop) == len(arms)\n",
    "    def update(i):\n",
    "        if i == 0:\n",
    "            print(\"init\")\n",
    "            for ii, centres in enumerate(start):\n",
    "                player.arms[arms[ii]].centres = centres\n",
    "            for arm in player.arms:\n",
    "                player.arms[arm].factor = 1\n",
    "        if n1 <= i <= n2:\n",
    "            if i == n1:\n",
    "                print(\"Start shift\")\n",
    "            alpha = (i - n1) / (n2 - n1)\n",
    "            for arm in player.arms:\n",
    "                player.arms[arm].factor = 1 - 2 * alpha\n",
    "#             for ii, centres in enumerate(stop):\n",
    "#                 player.arms[arms[ii]].centres = (1 - alpha) * start[ii] + alpha * stop[ii]\n",
    "    return update\n",
    "            \n",
    "    \n",
    "def update_eps(learner, i):        \n",
    "    if i < 300:\n",
    "        learner.eps = 0.9\n",
    "    learner.eps = 0.1\n",
    "    \n",
    "    \n",
    "poly = PolynomialFeatures(4)\n",
    "\n",
    "def logistic(f: float) -> float:\n",
    "    return 1/(1+np.exp(-f))"
   ]
  },
  {
   "cell_type": "code",
   "execution_count": null,
   "id": "respiratory-metabolism",
   "metadata": {},
   "outputs": [],
   "source": [
    "n = 8000"
   ]
  },
  {
   "cell_type": "code",
   "execution_count": null,
   "id": "answering-waters",
   "metadata": {},
   "outputs": [],
   "source": [
    "def make_audit_data():\n",
    "    N = 100\n",
    "    margins = np.linspace(-2, 2, N).reshape([-1, 1])\n",
    "    px = np.tile(margins, [N, 1])\n",
    "    py = np.repeat(np.flip(margins), N).reshape([-1, 1])\n",
    "    X = np.concatenate([px, py], axis=1)\n",
    "    return X"
   ]
  },
  {
   "cell_type": "code",
   "execution_count": null,
   "id": "greater-output",
   "metadata": {},
   "outputs": [],
   "source": [
    "def reshape_vals(vals):\n",
    "    n = int(round(len(vals)**0.5, 0))\n",
    "    return np.array(vals).reshape([n, n])"
   ]
  },
  {
   "cell_type": "code",
   "execution_count": null,
   "id": "liberal-duration",
   "metadata": {},
   "outputs": [],
   "source": [
    "def plot_arm(arm):\n",
    "    values = arm.value(make_audit_data())[1]\n",
    "    plt.imshow(reshape_vals(values))"
   ]
  },
  {
   "cell_type": "code",
   "execution_count": null,
   "id": "greek-brunei",
   "metadata": {},
   "outputs": [],
   "source": [
    "def compare_arms(arm1, arm2):\n",
    "    values = arm2.value(make_audit_data())[1] - arm1.value(make_audit_data())[1]\n",
    "    plt.imshow(reshape_vals(values))"
   ]
  },
  {
   "cell_type": "code",
   "execution_count": null,
   "id": "coated-sheep",
   "metadata": {},
   "outputs": [],
   "source": [
    "def show_choice(learners: dict, gt_name=\"Ground Truth\"):\n",
    "    fig, axes = plt.subplots(1, len(learners)+1)\n",
    "    for i, (name, learner) in enumerate(learners.items()):\n",
    "        X = make_audit_data()\n",
    "        if \"xperts\" in name or \"agged\" in name:\n",
    "            X = PolynomialFeatures(4).fit_transform(X)\n",
    "        arms = OrderedDict({n: i for i, n in enumerate(learner.learners.keys())})\n",
    "        choices = [arms[learner.choose(i)] for i in X]\n",
    "        names = list(arms.keys())\n",
    "        n = int(round(len(choices)**0.5, 0)) \n",
    "        axes[i].tick_params(left=False,\n",
    "                            bottom=False,\n",
    "                            labelleft=False,\n",
    "                            labelbottom=False)\n",
    "        axes[i].imshow(np.array(choices).reshape([n, n]))\n",
    "        axes[i].title.set_text(name)\n",
    "    axes[-1].imshow(reshape_vals(\n",
    "        player.arms[names[1]].value(make_audit_data())[1] - \n",
    "        player.arms[names[0]].value(make_audit_data())[1]\n",
    "    ))\n",
    "    axes[-1].tick_params(left=False,\n",
    "                            bottom=False,\n",
    "                            labelleft=False,\n",
    "                            labelbottom=False)\n",
    "    axes[-1].title.set_text(gt_name)"
   ]
  },
  {
   "cell_type": "code",
   "execution_count": null,
   "id": "interior-response",
   "metadata": {},
   "outputs": [],
   "source": [
    "show_choice(learners={\"ADA-RF\": learner4, \"Experts\": learner5, \"Bagged\": learner6}, gt_name=f\"GT: {i}\")"
   ]
  },
  {
   "cell_type": "code",
   "execution_count": null,
   "id": "dietary-lewis",
   "metadata": {},
   "outputs": [],
   "source": [
    "def plot_learner(learner):\n",
    "    X = make_audit_data()\n",
    "    values = [learner.predict_one({str(i): v for i, v in enumerate(x.squeeze())}) for x in poly.fit_transform(X)]\n",
    "    plt.imshow(reshape_vals(values))"
   ]
  },
  {
   "cell_type": "code",
   "execution_count": null,
   "id": "governing-simulation",
   "metadata": {},
   "outputs": [],
   "source": [
    "player = BanditPlayer({\"a0\": a0, \"a1\": a1})\n",
    "context = Context(n, 2)\n",
    "\n",
    "poly = PolynomialFeatures(4)\n",
    "\n",
    "learner4 = AdaptiveRandomForestLearner(2, n_trees=21, min_samples_split=9)\n",
    "regrets4 = []\n",
    "learner5 = LinearExpertsLearner(2)\n",
    "regrets5 = []\n",
    "learner6 = BaggedLinearRegressor(2)\n",
    "regrets6 = []\n",
    "\n",
    "# SGD learner needs higher order features\n",
    "poly = PolynomialFeatures(4)\n"
   ]
  },
  {
   "cell_type": "code",
   "execution_count": null,
   "id": "literary-aggregate",
   "metadata": {},
   "outputs": [],
   "source": [
    "np.random.seed(272)\n",
    "\n",
    "# update = update_sudden(player, (diag_down, diag_up), (diag_up, diag_down), n=int(n/2))\n",
    "update = update_gradual(player, (diag_down, diag_up), (diag_up, diag_down), n1=int(n/3), n2=int(2/3*n))"
   ]
  },
  {
   "cell_type": "code",
   "execution_count": null,
   "id": "recreational-simulation",
   "metadata": {},
   "outputs": [],
   "source": [
    "for i in range(context.contexts.shape[0]):\n",
    "    state = context.contexts[i, :].reshape([1, -1])\n",
    "    poly_state = poly.fit_transform(state)\n",
    "    \n",
    "    if (i % 1000) == 0:\n",
    "        print(i)\n",
    "    \n",
    "    action4 = learner4.choose(state)\n",
    "    reward4, regret4 = player.play_one(state, action4)\n",
    "    learner4.update(state, action4, reward4)\n",
    "    regrets4.append(regret4)\n",
    "    update_eps(learner4, i)\n",
    "    \n",
    "    action5 = learner5.choose(poly_state)\n",
    "    reward5, regret5 = player.play_one(state, action5)\n",
    "    learner5.update(poly_state, action5, reward5)\n",
    "    regrets5.append(regret5)\n",
    "    update_eps(learner5, i)\n",
    "    \n",
    "    action6 = learner6.choose(poly_state)\n",
    "    reward6, regret6 = player.play_one(state, action6)\n",
    "    learner6.update(poly_state, action6, reward6)\n",
    "    regrets6.append(regret6)\n",
    "    update_eps(learner6, i)\n",
    "    \n",
    "    update(i)\n",
    "    if i in [100, 500, 2000, 3000, 4001, 4500, 6000, 7000, 7999]:\n",
    "        show_choice(learners={\"ADA-RF\": learner4, \"Experts\": learner5, \"Bagged\": learner6}, gt_name=f\"GT: {i}\")\n"
   ]
  },
  {
   "cell_type": "code",
   "execution_count": null,
   "id": "complimentary-bermuda",
   "metadata": {},
   "outputs": [],
   "source": [
    "frac_opt_actions4 = SimpleExpSmoothing(np.array(regrets4) == 0).fit(smoothing_level=0.006).fittedvalues\n",
    "frac_opt_actions5 = SimpleExpSmoothing(np.array(regrets5) == 0).fit(smoothing_level=0.006).fittedvalues\n",
    "frac_opt_actions6 = SimpleExpSmoothing(np.array(regrets6) == 0).fit(smoothing_level=0.006).fittedvalues"
   ]
  },
  {
   "cell_type": "code",
   "execution_count": null,
   "id": "wooden-stomach",
   "metadata": {},
   "outputs": [],
   "source": [
    "fig = go.Figure(layout_title=f\"Fraction of optimal choice (Exponentially smoothed), reversal at {int(n/2)}\",\n",
    "               layout_xaxis_title=\"Index\",\n",
    "               layout_yaxis_title=\"Cumulative fraction\"\n",
    "               )\n",
    "fig.add_trace(go.Scatter(x=np.arange(len(regrets4))+1, y=frac_opt_actions4,\n",
    "                        line={\"color\": \"#167ab3\", \"dash\": \"solid\"}, \n",
    "                         name=f\"Adaptive RF learner\", mode=\"lines\"))\n",
    "fig.add_trace(go.Scatter(x=np.arange(len(regrets5))+1, y=frac_opt_actions5,\n",
    "                        line={\"color\": \"#565659\", \"dash\": \"solid\"}, \n",
    "                         name=f\"Linear experts\", mode=\"lines\"))\n",
    "fig.add_trace(go.Scatter(x=np.arange(len(regrets6))+1, y=frac_opt_actions6,\n",
    "                        line={\"color\": \"#12a9c1\", \"dash\": \"solid\"}, \n",
    "                         name=f\"Bagged Linear\", mode=\"lines\"))\n",
    "fig.layout={'yaxis': {\"range\":[0, 1]}}\n",
    "fig.show()"
   ]
  },
  {
   "cell_type": "code",
   "execution_count": null,
   "id": "faced-saudi",
   "metadata": {},
   "outputs": [],
   "source": [
    "plt.tick_params(left=False,\n",
    "                bottom=False,\n",
    "                labelleft=False,\n",
    "                labelbottom=False)\n",
    "plt.imshow(reshape_vals(\n",
    "        player.arms[\"a1\"].value(make_audit_data())[1] - \n",
    "        player.arms[\"a0\"].value(make_audit_data())[1]\n",
    "    ))"
   ]
  },
  {
   "cell_type": "code",
   "execution_count": null,
   "id": "identical-importance",
   "metadata": {},
   "outputs": [],
   "source": []
  },
  {
   "cell_type": "code",
   "execution_count": null,
   "id": "flexible-cisco",
   "metadata": {},
   "outputs": [],
   "source": []
  },
  {
   "cell_type": "code",
   "execution_count": null,
   "id": "integral-exploration",
   "metadata": {},
   "outputs": [],
   "source": []
  }
 ],
 "metadata": {
  "kernelspec": {
   "display_name": "Python 3",
   "language": "python",
   "name": "python3"
  },
  "language_info": {
   "codemirror_mode": {
    "name": "ipython",
    "version": 3
   },
   "file_extension": ".py",
   "mimetype": "text/x-python",
   "name": "python",
   "nbconvert_exporter": "python",
   "pygments_lexer": "ipython3",
   "version": "3.8.5"
  }
 },
 "nbformat": 4,
 "nbformat_minor": 5
}
